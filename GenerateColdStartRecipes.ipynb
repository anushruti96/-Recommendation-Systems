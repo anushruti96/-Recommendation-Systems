{
 "cells": [
  {
   "cell_type": "code",
   "execution_count": 1,
   "id": "8b3ef637",
   "metadata": {},
   "outputs": [],
   "source": [
    "import csv\n",
    "import numpy as np\n",
    "from tqdm import tqdm\n",
    "\n",
    "NUM_RECIPES  = 25"
   ]
  },
  {
   "cell_type": "markdown",
   "id": "31682333",
   "metadata": {},
   "source": [
    "The purpose of this code is to determine the recipes to be used in our cold-start solution. Essentially, we want to choose the X recipes that are the least similar."
   ]
  },
  {
   "cell_type": "markdown",
   "id": "7daab2f2",
   "metadata": {},
   "source": [
    "# Load EpiCurious Database"
   ]
  },
  {
   "cell_type": "code",
   "execution_count": 2,
   "id": "64df3681",
   "metadata": {},
   "outputs": [],
   "source": [
    "with open('./epicurious.csv', 'r') as read_obj:\n",
    "    epicuriousString = list(csv.reader(read_obj))\n",
    "\n",
    "epicuriousString.pop(0)\n",
    "epicurious = []\n",
    "\n",
    "for row in epicuriousString:\n",
    "    temp = []\n",
    "    for cell in row:\n",
    "        try:\n",
    "            temp.append(float(cell))\n",
    "        except:\n",
    "            temp.append(cell)\n",
    "    epicurious.append(temp)\n"
   ]
  },
  {
   "cell_type": "markdown",
   "id": "463b41d7",
   "metadata": {},
   "source": [
    "# Fine best NUM_RECIPES"
   ]
  },
  {
   "cell_type": "markdown",
   "id": "fb3ced24",
   "metadata": {},
   "source": [
    "This will implement a greedy policy. The first recipe will just be the one with the most tags, after that, it will be the recipe with the most unused tags"
   ]
  },
  {
   "cell_type": "code",
   "execution_count": 3,
   "id": "38415d1a",
   "metadata": {},
   "outputs": [
    {
     "name": "stdout",
     "output_type": "stream",
     "text": [
      "Best Recipe:  Fruit Smoothie   has  37.0  tags\n"
     ]
    }
   ],
   "source": [
    "recipes = []\n",
    "\n",
    "#Find the first recipe\n",
    "bestTags = 0\n",
    "bestRecipe = 0\n",
    "i = 0\n",
    "\n",
    "for row in epicurious:\n",
    "    \n",
    "    #Check if there are more tags\n",
    "    if(sum(row[6:]) > bestTags):\n",
    "        bestTags = sum(row[6:])\n",
    "        bestRecipe = i\n",
    "    i+=1\n",
    "print('Best Recipe: ', epicurious[bestRecipe][0], ' has ', bestTags, ' tags')\n"
   ]
  },
  {
   "cell_type": "code",
   "execution_count": 4,
   "id": "ab22a040",
   "metadata": {},
   "outputs": [
    {
     "name": "stderr",
     "output_type": "stream",
     "text": [
      "100%|██████████| 24/24 [13:46<00:00, 34.45s/it]"
     ]
    },
    {
     "name": "stdout",
     "output_type": "stream",
     "text": [
      "Proposed recipes use  285  of 674 tags\n"
     ]
    },
    {
     "name": "stderr",
     "output_type": "stream",
     "text": [
      "\n"
     ]
    }
   ],
   "source": [
    "#Find the remaining recipes\n",
    "TopRecipes = [bestRecipe]\n",
    "totalTags = bestTags\n",
    "usedTags = []\n",
    "i=0\n",
    "for cell in epicurious[bestRecipe][6:]:\n",
    "    \n",
    "    if(cell==1.0):\n",
    "        usedTags.append(i)\n",
    "    i+=1\n",
    "\n",
    "for num in tqdm(range(NUM_RECIPES-1)):\n",
    "    \n",
    "    #Loop through existing rows\n",
    "    i=0\n",
    "    bestScore = 0\n",
    "    bestRecipe = 0\n",
    "    bestTags = []\n",
    "    \n",
    "    for recipe in epicurious:\n",
    "        \n",
    "        tags = []\n",
    "        score = 0\n",
    "        \n",
    "        #Don't bother to evaluate the recipes we already found\n",
    "        if(not (i in TopRecipes)):\n",
    "            \n",
    "            #Calculate the new tags\n",
    "            j = 0\n",
    "            for cell in recipe[6:]:\n",
    "                if(not (j in usedTags)):\n",
    "                    score+=cell\n",
    "                    if(cell==1.0):\n",
    "                        tags.append(j)\n",
    "                j+=1\n",
    "            \n",
    "            if(score>bestScore):\n",
    "                bestRecipe = i\n",
    "                bestScore = score\n",
    "                bestTags = tags\n",
    "            \n",
    "        i+=1\n",
    "        \n",
    "    #Save the best recipe\n",
    "    TopRecipes.append(bestRecipe)\n",
    "    usedTags+=bestTags\n",
    "\n",
    "\n",
    "print('Proposed recipes use ', len(usedTags), ' of 674 tags')"
   ]
  },
  {
   "cell_type": "markdown",
   "id": "d2545850",
   "metadata": {},
   "source": [
    "# Save the data"
   ]
  },
  {
   "cell_type": "code",
   "execution_count": 5,
   "id": "51c745bc",
   "metadata": {},
   "outputs": [],
   "source": [
    "writeData = []\n",
    "for row in TopRecipes:\n",
    "    writeData.append([epicurious[row][0], row])\n",
    "    \n",
    "with open('./coldStartRecipes.csv', 'w') as write_obj:\n",
    "    writer=csv.writer(write_obj)\n",
    "    writer.writerows(writeData)"
   ]
  },
  {
   "cell_type": "code",
   "execution_count": null,
   "id": "0788944b",
   "metadata": {},
   "outputs": [],
   "source": []
  }
 ],
 "metadata": {
  "kernelspec": {
   "display_name": "Python 3",
   "language": "python",
   "name": "python3"
  },
  "language_info": {
   "codemirror_mode": {
    "name": "ipython",
    "version": 3
   },
   "file_extension": ".py",
   "mimetype": "text/x-python",
   "name": "python",
   "nbconvert_exporter": "python",
   "pygments_lexer": "ipython3",
   "version": "3.8.8"
  }
 },
 "nbformat": 4,
 "nbformat_minor": 5
}
